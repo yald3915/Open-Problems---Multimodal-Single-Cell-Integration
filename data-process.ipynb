{
 "cells": [
  {
   "cell_type": "code",
   "execution_count": 1,
   "id": "b1847945",
   "metadata": {
    "_cell_guid": "b1076dfc-b9ad-4769-8c92-a6c4dae69d19",
    "_uuid": "8f2839f25d086af736a60e9eeb907d3b93b6e0e5",
    "execution": {
     "iopub.execute_input": "2022-09-16T05:15:51.109411Z",
     "iopub.status.busy": "2022-09-16T05:15:51.108693Z",
     "iopub.status.idle": "2022-09-16T05:15:51.135322Z",
     "shell.execute_reply": "2022-09-16T05:15:51.134208Z"
    },
    "papermill": {
     "duration": 0.040981,
     "end_time": "2022-09-16T05:15:51.140588",
     "exception": false,
     "start_time": "2022-09-16T05:15:51.099607",
     "status": "completed"
    },
    "tags": []
   },
   "outputs": [
    {
     "name": "stdout",
     "output_type": "stream",
     "text": [
      "/kaggle/input/open-problems-multimodal/sample_submission.csv\n",
      "/kaggle/input/open-problems-multimodal/train_cite_targets.h5\n",
      "/kaggle/input/open-problems-multimodal/metadata_cite_day_2_donor_27678.csv\n",
      "/kaggle/input/open-problems-multimodal/test_multi_inputs.h5\n",
      "/kaggle/input/open-problems-multimodal/evaluation_ids.csv\n",
      "/kaggle/input/open-problems-multimodal/train_cite_inputs.h5\n",
      "/kaggle/input/open-problems-multimodal/train_multi_targets.h5\n",
      "/kaggle/input/open-problems-multimodal/train_multi_inputs.h5\n",
      "/kaggle/input/open-problems-multimodal/metadata.csv\n",
      "/kaggle/input/open-problems-multimodal/test_cite_inputs_day_2_donor_27678.h5\n",
      "/kaggle/input/open-problems-multimodal/test_cite_inputs.h5\n",
      "/kaggle/input/open-problems-msci-multiome-sparse-matrices/train_multi_targets_sparse.npz\n",
      "/kaggle/input/open-problems-msci-multiome-sparse-matrices/test_multi_inputs_sparse.npz\n",
      "/kaggle/input/open-problems-msci-multiome-sparse-matrices/train_multiome_input_sparse.npz\n"
     ]
    }
   ],
   "source": [
    "# This Python 3 environment comes with many helpful analytics libraries installed\n",
    "# It is defined by the kaggle/python Docker image: https://github.com/kaggle/docker-python\n",
    "# For example, here's several helpful packages to load\n",
    "\n",
    "import numpy as np # linear algebra\n",
    "import pandas as pd # data processing, CSV file I/O (e.g. pd.read_csv)\n",
    "\n",
    "# Input data files are available in the read-only \"../input/\" directory\n",
    "# For example, running this (by clicking run or pressing Shift+Enter) will list all files under the input directory\n",
    "\n",
    "import os\n",
    "for dirname, _, filenames in os.walk('/kaggle/input'):\n",
    "    for filename in filenames:\n",
    "        print(os.path.join(dirname, filename))\n",
    "\n",
    "# You can write up to 20GB to the current directory (/kaggle/working/) that gets preserved as output when you create a version using \"Save & Run All\" \n",
    "# You can also write temporary files to /kaggle/temp/, but they won't be saved outside of the current session"
   ]
  },
  {
   "cell_type": "code",
   "execution_count": 2,
   "id": "b6042b7f",
   "metadata": {
    "execution": {
     "iopub.execute_input": "2022-09-16T05:15:51.156695Z",
     "iopub.status.busy": "2022-09-16T05:15:51.155736Z",
     "iopub.status.idle": "2022-09-16T05:16:11.465576Z",
     "shell.execute_reply": "2022-09-16T05:16:11.464056Z"
    },
    "papermill": {
     "duration": 20.321781,
     "end_time": "2022-09-16T05:16:11.469339",
     "exception": false,
     "start_time": "2022-09-16T05:15:51.147558",
     "status": "completed"
    },
    "tags": []
   },
   "outputs": [
    {
     "name": "stdout",
     "output_type": "stream",
     "text": [
      "Collecting tables\r\n",
      "  Downloading tables-3.7.0-cp37-cp37m-manylinux_2_17_x86_64.manylinux2014_x86_64.whl (5.9 MB)\r\n",
      "\u001b[2K     \u001b[90m━━━━━━━━━━━━━━━━━━━━━━━━━━━━━━━━━━━━━━━━\u001b[0m \u001b[32m5.9/5.9 MB\u001b[0m \u001b[31m4.5 MB/s\u001b[0m eta \u001b[36m0:00:00\u001b[0m\r\n",
      "\u001b[?25hRequirement already satisfied: packaging in /opt/conda/lib/python3.7/site-packages (from tables) (21.3)\r\n",
      "Requirement already satisfied: numexpr>=2.6.2 in /opt/conda/lib/python3.7/site-packages (from tables) (2.8.3)\r\n",
      "Requirement already satisfied: numpy>=1.19.0 in /opt/conda/lib/python3.7/site-packages (from tables) (1.21.6)\r\n",
      "Requirement already satisfied: pyparsing!=3.0.5,>=2.0.2 in /opt/conda/lib/python3.7/site-packages (from packaging->tables) (3.0.9)\r\n",
      "Installing collected packages: tables\r\n",
      "Successfully installed tables-3.7.0\r\n",
      "\u001b[33mWARNING: Running pip as the 'root' user can result in broken permissions and conflicting behaviour with the system package manager. It is recommended to use a virtual environment instead: https://pip.pypa.io/warnings/venv\u001b[0m\u001b[33m\r\n",
      "\u001b[0m"
     ]
    }
   ],
   "source": [
    "# 导入库\n",
    "import pandas as pd\n",
    "import numpy as np\n",
    "from tqdm import tqdm \n",
    "import gc\n",
    "import os\n",
    "import sys\n",
    "from scipy import sparse\n",
    "import torch\n",
    "import torch.nn.functional as F\n",
    "from torch import Tensor\n",
    "!pip install tables"
   ]
  },
  {
   "cell_type": "code",
   "execution_count": 3,
   "id": "bd8bfc08",
   "metadata": {
    "execution": {
     "iopub.execute_input": "2022-09-16T05:16:11.483906Z",
     "iopub.status.busy": "2022-09-16T05:16:11.482203Z",
     "iopub.status.idle": "2022-09-16T05:25:21.671077Z",
     "shell.execute_reply": "2022-09-16T05:25:21.669671Z"
    },
    "papermill": {
     "duration": 550.203272,
     "end_time": "2022-09-16T05:25:21.678574",
     "exception": false,
     "start_time": "2022-09-16T05:16:11.475302",
     "status": "completed"
    },
    "tags": []
   },
   "outputs": [
    {
     "data": {
      "text/plain": [
       "58"
      ]
     },
     "execution_count": 3,
     "metadata": {},
     "output_type": "execute_result"
    }
   ],
   "source": [
    "# cite 数据准备\n",
    "cite_x = pd.read_hdf('../input/open-problems-multimodal/train_cite_inputs.h5').values\n",
    "sparse.save_npz('./train_cite_inputs_sparse',sparse.csr_matrix(cite_x))\n",
    "del cite_x\n",
    "gc.collect()\n",
    "cite_y = pd.read_hdf('../input/open-problems-multimodal/train_cite_targets.h5').values\n",
    "sparse.save_npz('./train_cite_targets_sparse',sparse.csr_matrix(cite_y))\n",
    "del cite_y\n",
    "gc.collect()\n",
    "cite_x_test = pd.read_hdf('../input/open-problems-multimodal/test_cite_inputs.h5').values\n",
    "sparse.save_npz('./test_cite_inputs_sparse',sparse.csr_matrix(cite_x_test))\n",
    "del cite_x_test\n",
    "gc.collect()"
   ]
  },
  {
   "cell_type": "code",
   "execution_count": 4,
   "id": "b13e3e3d",
   "metadata": {
    "execution": {
     "iopub.execute_input": "2022-09-16T05:25:21.691883Z",
     "iopub.status.busy": "2022-09-16T05:25:21.691463Z",
     "iopub.status.idle": "2022-09-16T05:25:58.701944Z",
     "shell.execute_reply": "2022-09-16T05:25:58.700714Z"
    },
    "papermill": {
     "duration": 37.024786,
     "end_time": "2022-09-16T05:25:58.709580",
     "exception": false,
     "start_time": "2022-09-16T05:25:21.684794",
     "status": "completed"
    },
    "tags": []
   },
   "outputs": [
    {
     "name": "stdout",
     "output_type": "stream",
     "text": [
      "-9.382806e-08\n",
      "0.9978744\n"
     ]
    },
    {
     "data": {
      "text/plain": [
       "40"
      ]
     },
     "execution_count": 4,
     "metadata": {},
     "output_type": "execute_result"
    }
   ],
   "source": [
    "# multi std and mean\n",
    "multi_y = sparse.load_npz('../input/open-problems-msci-multiome-sparse-matrices/train_multi_targets_sparse.npz')\n",
    "y_mean = np.array(multi_y.mean(axis=1)).reshape(-1)\n",
    "multi_y_c = multi_y.copy()\n",
    "multi_y_c.data**=2\n",
    "y_std = np.sqrt(np.array(multi_y_c.mean(axis=1)).reshape(-1)-y_mean)\n",
    "np.save(os.path.join('./','multi_y_mean'), y_mean, allow_pickle=True)\n",
    "np.save(os.path.join('./','multi_y_std'), y_std, allow_pickle=True)\n",
    "index = 456\n",
    "check_1 = multi_y[index]\n",
    "check_1_mstd = (check_1.toarray()-y_mean[index])/y_std[index]\n",
    "print(np.mean(check_1_mstd))\n",
    "print(np.std(check_1_mstd))\n",
    "del multi_y,multi_y_c,check_1,check_1_mstd,index,y_std,y_mean\n",
    "gc.collect()"
   ]
  },
  {
   "cell_type": "code",
   "execution_count": 5,
   "id": "70d6c191",
   "metadata": {
    "execution": {
     "iopub.execute_input": "2022-09-16T05:25:58.722695Z",
     "iopub.status.busy": "2022-09-16T05:25:58.721371Z",
     "iopub.status.idle": "2022-09-16T05:28:55.372249Z",
     "shell.execute_reply": "2022-09-16T05:28:55.370742Z"
    },
    "papermill": {
     "duration": 176.671094,
     "end_time": "2022-09-16T05:28:55.385850",
     "exception": false,
     "start_time": "2022-09-16T05:25:58.714756",
     "status": "completed"
    },
    "tags": []
   },
   "outputs": [
    {
     "data": {
      "text/plain": [
       "0"
      ]
     },
     "execution_count": 5,
     "metadata": {},
     "output_type": "execute_result"
    }
   ],
   "source": [
    "# submit multi\n",
    "multi_target_col = pd.read_hdf('../input/open-problems-multimodal/train_multi_targets.h5',start=0,stop=1).columns\n",
    "eval_ids = pd.read_csv('../input/open-problems-multimodal/evaluation_ids.csv', index_col='row_id')\n",
    "# Convert the string columns to more efficient categorical types\n",
    "eval_ids.cell_id = eval_ids.cell_id.astype(pd.CategoricalDtype())\n",
    "eval_ids.gene_id = eval_ids.gene_id.astype(pd.CategoricalDtype())\n",
    "cell_id_set = set(eval_ids.cell_id)\n",
    "eval_ids_col = eval_ids.groupby('cell_id')['gene_id'].apply(lambda x:','.join(x))\n",
    "eval_ids_index = eval_ids.cell_id\n",
    "del eval_ids\n",
    "gc.collect()"
   ]
  },
  {
   "cell_type": "code",
   "execution_count": 6,
   "id": "0e6bfe06",
   "metadata": {
    "execution": {
     "iopub.execute_input": "2022-09-16T05:28:55.400615Z",
     "iopub.status.busy": "2022-09-16T05:28:55.399949Z",
     "iopub.status.idle": "2022-09-16T05:34:15.562171Z",
     "shell.execute_reply": "2022-09-16T05:34:15.560094Z"
    },
    "papermill": {
     "duration": 320.174944,
     "end_time": "2022-09-16T05:34:15.566400",
     "exception": false,
     "start_time": "2022-09-16T05:28:55.391456",
     "status": "completed"
    },
    "tags": []
   },
   "outputs": [
    {
     "name": "stdout",
     "output_type": "stream",
     "text": [
      "0\n",
      "1000\n",
      "2000\n",
      "3000\n",
      "4000\n",
      "5000\n",
      "6000\n",
      "7000\n",
      "8000\n",
      "9000\n",
      "10000\n",
      "11000\n",
      "12000\n",
      "13000\n",
      "14000\n",
      "15000\n",
      "16000\n",
      "17000\n",
      "18000\n",
      "19000\n",
      "20000\n",
      "21000\n",
      "22000\n",
      "23000\n",
      "24000\n",
      "25000\n",
      "26000\n",
      "27000\n",
      "28000\n",
      "29000\n",
      "30000\n",
      "31000\n",
      "32000\n",
      "33000\n",
      "34000\n",
      "35000\n",
      "36000\n",
      "37000\n",
      "38000\n",
      "39000\n",
      "40000\n",
      "41000\n",
      "42000\n",
      "43000\n",
      "44000\n",
      "45000\n",
      "46000\n",
      "47000\n",
      "48000\n",
      "49000\n",
      "50000\n",
      "51000\n",
      "52000\n",
      "53000\n",
      "54000\n",
      "55000\n"
     ]
    }
   ],
   "source": [
    "def ret_index(x):\n",
    "    col_lst = x.split(',')\n",
    "    return np.where(multi_target_col.isin(col_lst))[0]\n",
    "start = 0\n",
    "chunksize = 1000\n",
    "total_rows = 0\n",
    "row_lst = []\n",
    "row_name_lst = []\n",
    "col_lst = []\n",
    "while True:\n",
    "    print(start)\n",
    "    multi_test_x = None # Free the memory if necessary\n",
    "    gc.collect()\n",
    "    multi_test_x = pd.read_hdf('../input/open-problems-multimodal/test_multi_inputs.h5', start=start, stop=start+chunksize)\n",
    "    rows_read = len(multi_test_x)\n",
    "    row_mask = multi_test_x.index.isin(cell_id_set)\n",
    "    row_lst+=row_mask.tolist()\n",
    "    multi_test_x_index = multi_test_x.loc[row_mask].index\n",
    "    row_name_lst+=multi_test_x_index.tolist()\n",
    "    if len(multi_test_x_index) > 0:\n",
    "        col_lst.append(np.stack(eval_ids_col[multi_test_x_index].apply(lambda x:ret_index(x)).values))\n",
    "    if rows_read < chunksize: \n",
    "        break\n",
    "    start += chunksize\n",
    "row_lst = np.array(row_lst)\n",
    "row_name_lst = np.array(row_name_lst)\n",
    "col_lst = np.concatenate(col_lst)\n",
    "col_name_lst = np.array(multi_target_col)\n",
    "assert col_lst.shape[0] == np.sum(row_lst)\n",
    "assert col_lst.shape[0] == len(row_name_lst)\n",
    "np.save(os.path.join('./','multi_test_row'), row_lst, allow_pickle=True)\n",
    "np.save(os.path.join('./','multi_test_row_name'), row_name_lst, allow_pickle=True)\n",
    "np.save(os.path.join('./','multi_test_col'), col_lst, allow_pickle=True)\n",
    "np.save(os.path.join('./','multi_test_col_name'), col_name_lst, allow_pickle=True)"
   ]
  },
  {
   "cell_type": "code",
   "execution_count": null,
   "id": "5abb8e4f",
   "metadata": {
    "papermill": {
     "duration": 0.008725,
     "end_time": "2022-09-16T05:34:15.586203",
     "exception": false,
     "start_time": "2022-09-16T05:34:15.577478",
     "status": "completed"
    },
    "tags": []
   },
   "outputs": [],
   "source": []
  }
 ],
 "metadata": {
  "kernelspec": {
   "display_name": "Python 3",
   "language": "python",
   "name": "python3"
  },
  "language_info": {
   "codemirror_mode": {
    "name": "ipython",
    "version": 3
   },
   "file_extension": ".py",
   "mimetype": "text/x-python",
   "name": "python",
   "nbconvert_exporter": "python",
   "pygments_lexer": "ipython3",
   "version": "3.7.12"
  },
  "papermill": {
   "default_parameters": {},
   "duration": 1117.213378,
   "end_time": "2022-09-16T05:34:16.826281",
   "environment_variables": {},
   "exception": null,
   "input_path": "__notebook__.ipynb",
   "output_path": "__notebook__.ipynb",
   "parameters": {},
   "start_time": "2022-09-16T05:15:39.612903",
   "version": "2.3.4"
  }
 },
 "nbformat": 4,
 "nbformat_minor": 5
}
